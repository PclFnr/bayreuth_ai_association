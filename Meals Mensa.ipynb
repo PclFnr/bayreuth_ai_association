{
 "cells": [
  {
   "cell_type": "code",
   "execution_count": 1,
   "id": "628ffcda",
   "metadata": {},
   "outputs": [],
   "source": [
    "import pandas as pd\n",
    "from matplotlib import pyplot as plt\n",
    "import numpy as np\n",
    "import seaborn as sns\n",
    "from datetime import datetime, timedelta"
   ]
  },
  {
   "cell_type": "code",
   "execution_count": 2,
   "id": "8040312f",
   "metadata": {},
   "outputs": [],
   "source": [
    "path_to_csv = \"Mensa DS/DispoRez_Exp-2023u2024.csv\"\n",
    "path_to_txt = \"Mensa DS/Kassendaten BT 2021-2024.txt\""
   ]
  },
  {
   "cell_type": "code",
   "execution_count": 3,
   "id": "34137c78",
   "metadata": {},
   "outputs": [],
   "source": [
    "with open(path_to_txt, \"r\") as file:\n",
    "    line = file.read()"
   ]
  },
  {
   "cell_type": "code",
   "execution_count": 4,
   "id": "f6034265",
   "metadata": {},
   "outputs": [],
   "source": [
    "print(line)"
   ]
  },
  {
   "cell_type": "code",
   "execution_count": 5,
   "id": "10fb1eb1",
   "metadata": {},
   "outputs": [],
   "source": [
    "line[:100]"
   ]
  },
  {
   "cell_type": "code",
   "execution_count": null,
   "id": "a8831e18",
   "metadata": {},
   "outputs": [],
   "source": []
  }
 ],
 "metadata": {
  "kernelspec": {
   "display_name": "Python 3 (ipykernel)",
   "language": "python",
   "name": "python3"
  },
  "language_info": {
   "codemirror_mode": {
    "name": "ipython",
    "version": 3
   },
   "file_extension": ".py",
   "mimetype": "text/x-python",
   "name": "python",
   "nbconvert_exporter": "python",
   "pygments_lexer": "ipython3",
   "version": "3.9.7"
  }
 },
 "nbformat": 4,
 "nbformat_minor": 5
}
